{
 "cells": [
  {
   "cell_type": "markdown",
   "metadata": {},
   "source": [
    "#Tkinter intro"
   ]
  },
  {
   "cell_type": "code",
   "execution_count": 6,
   "metadata": {},
   "outputs": [],
   "source": [
    "from tkinter import *\n",
    "start=Tk()#creating an instance which initialize the interpreter to create a window\n",
    "lab=Label(start,text=\"First GuI\")\n",
    "lab.pack(side=LEFT)\n",
    "start.mainloop()#continuously display a window until cross is clicked"
   ]
  },
  {
   "cell_type": "markdown",
   "metadata": {},
   "source": [
    "Frames are invisible container in which we can group many components\n"
   ]
  },
  {
   "cell_type": "code",
   "execution_count": 7,
   "metadata": {},
   "outputs": [],
   "source": [
    "from tkinter import  *\n",
    "start=Tk()\n",
    "frame=Frame(start,width=300,height=500)#creating an invisible container\n",
    "button1=Button(frame,text=\"button1\")\n",
    "button1.pack(side=LEFT)\n",
    "button2=Button(frame,text=\"button2\")\n",
    "button2.pack(side=LEFT)\n",
    "frame.pack()\n",
    "bottomframe=Frame(start)\n",
    "button3=Button(bottomframe,text=\"button3\")\n",
    "button3.pack()\n",
    "bottomframe.pack(side=BOTTOM)\n",
    "\n",
    "start.mainloop()"
   ]
  },
  {
   "cell_type": "code",
   "execution_count": 8,
   "metadata": {},
   "outputs": [],
   "source": [
    "from tkinter import  *\n",
    "start=Tk()\n",
    "frame=Frame(start,width=300,height=500)#creating an invisible container\n",
    "frame.pack()\n",
    "start.mainloop()"
   ]
  },
  {
   "cell_type": "code",
   "execution_count": 10,
   "metadata": {},
   "outputs": [],
   "source": [
    "#creating colored labels along with there size along x and y axis\n",
    "from tkinter import *\n",
    "start=Tk()\n",
    "one= Label(start,text=\"one\",bg=\"red\")\n",
    "two= Label(start,text=\"two\",bg=\"blue\")\n",
    "three= Label(start,text=\"three\",bg=\"green\")\n",
    "one.pack()\n",
    "two.pack(fill=X)\n",
    "three.pack(side=LEFT,fill=Y)\n",
    "start.mainloop()"
   ]
  },
  {
   "cell_type": "markdown",
   "metadata": {},
   "source": [
    "#Grid layout"
   ]
  },
  {
   "cell_type": "code",
   "execution_count": 12,
   "metadata": {},
   "outputs": [],
   "source": [
    "from tkinter import *\n",
    "start=Tk()\n",
    "name=Label(start,text=\"Name\")\n",
    "password=Label(start,text=\"Password\")\n",
    "entry1=Entry(start)\n",
    "entry2=Entry(start)\n",
    "name.grid(row=0,sticky=E) #by default column is 0 sticky is used to attach it on west side W:\n",
    "entry1.grid(row=0,column=1)\n",
    "password.grid(row=1)\n",
    "entry2.grid(row=1,column=1)\n",
    "c=Checkbutton(start,text=\"Keep me logged in\")\n",
    "c.grid(columnspan=2)#columnspan is  same as of html\n",
    "start.mainloop()"
   ]
  },
  {
   "cell_type": "markdown",
   "metadata": {},
   "source": [
    "#Binding functions to button"
   ]
  },
  {
   "cell_type": "code",
   "execution_count": 5,
   "metadata": {},
   "outputs": [
    {
     "name": "stdout",
     "output_type": "stream",
     "text": [
      "Hey Dude!!!!\n",
      "Hey Dude!!!!\n",
      "Hey Dude!!!!\n",
      "Second Method\n"
     ]
    }
   ],
   "source": [
    "from tkinter import *\n",
    "start=Tk()\n",
    "def callme():\n",
    "    print(\"Hey Dude!!!!\")\n",
    "def second(event):\n",
    "    print(\"Second Method\")\n",
    "button=Button(start,text=\"Click me\",command=callme)\n",
    "button2=Button(start,text=\"SecondMethod\")\n",
    "button2.bind(\"<Button-1>\",second)#Function is called on left mouse click\n",
    "button.pack()\n",
    "button2.pack()\n",
    "start.mainloop()\n"
   ]
  },
  {
   "cell_type": "markdown",
   "metadata": {},
   "source": [
    "#mouse click events"
   ]
  },
  {
   "cell_type": "code",
   "execution_count": 6,
   "metadata": {},
   "outputs": [
    {
     "name": "stdout",
     "output_type": "stream",
     "text": [
      "leftClick\n",
      "leftClick\n",
      "leftClick\n",
      "RightClick\n",
      "Scroll\n"
     ]
    }
   ],
   "source": [
    "from tkinter import *\n",
    "start=Tk()\n",
    "def right_click(event):\n",
    "    print(\"RightClick\")\n",
    "def left_click(event):\n",
    "    print(\"leftClick\")\n",
    "def scroll(event):\n",
    "    print(\"Scroll\")\n",
    "frame=Frame(start,width=300,height=300)\n",
    "frame.bind(\"<Button-1>\",left_click)\n",
    "frame.bind(\"<Button-2>\",scroll)\n",
    "frame.bind(\"<Button-3>\",right_click)\n",
    "frame.pack()\n",
    "start.mainloop()"
   ]
  },
  {
   "cell_type": "markdown",
   "metadata": {},
   "source": [
    "#Set width and height of root window"
   ]
  },
  {
   "cell_type": "code",
   "execution_count": 7,
   "metadata": {},
   "outputs": [],
   "source": [
    "from tkinter import *\n",
    "start=Tk()\n",
    "start.geometry(\"1050x600+200+100\")#start.geometry(\"widthxheight+dist from x axis + dist from y axis\")\n",
    "start.mainloop()"
   ]
  },
  {
   "cell_type": "markdown",
   "metadata": {},
   "source": [
    "#Workin with classes "
   ]
  },
  {
   "cell_type": "code",
   "execution_count": 1,
   "metadata": {},
   "outputs": [],
   "source": [
    "from tkinter import *\n",
    "class mybuttons():\n",
    "    def __init__(self,master):\n",
    "        self.printButton=Button(master,text=\"Print\",command=self.printMessage)\n",
    "        self.printButton.pack(side=LEFT)\n",
    "        self.quitbutton=Button(master,text=\"Quit\",command=master.quit)\n",
    "        self.quitbutton.pack(side=LEFT)\n",
    "    def printMessage(self):\n",
    "        print(\"Heyy whatsupp\")\n",
    "start=Tk()\n",
    "b=mybuttons(start)\n",
    "start.mainloop()"
   ]
  },
  {
   "cell_type": "markdown",
   "metadata": {},
   "source": [
    "#Drop down menus"
   ]
  },
  {
   "cell_type": "code",
   "execution_count": 10,
   "metadata": {},
   "outputs": [],
   "source": [
    "from tkinter import *\n",
    "start=Tk()\n",
    "start.geometry(\"1050x600+200+100\")#start.geometry(\"widthxheight+dist from x axis + dist from y axis\")\n",
    "def do():\n",
    "    print(\"New file opened\")\n",
    "#creating main menu\n",
    "main_menu=Menu(start)\n",
    "start.config(menu=main_menu)\n",
    "#creating file menu\n",
    "file_menu=Menu(main_menu)\n",
    "main_menu.add_cascade(label=\"File\",menu=file_menu)\n",
    "#creating edit menu\n",
    "edit_menu=Menu(main_menu)\n",
    "main_menu.add_cascade(label=\"Edit\",menu=edit_menu)\n",
    "#creating content in file menu\n",
    "file_menu.add_command(label=\"New\",command=do)\n",
    "file_menu.add_command(label=\"Open\",command=do)\n",
    "file_menu.add_separator()\n",
    "file_menu.add_command(label=\"Save\",command=do)\n",
    "file_menu.add_command(label=\"Close\",command=do)\n",
    "#creating menu inside menu\n",
    "save_menu=Menu(file_menu)\n",
    "file_menu.add_cascade(label='CTRL+S',menu=save_menu)\n",
    "save_menu.add_command(label=\"NormalSave\",command=do)\n",
    "save_menu.add_command(label=\"SaveWithPassword\",command=do)\n",
    "start.mainloop()"
   ]
  },
  {
   "cell_type": "markdown",
   "metadata": {},
   "source": [
    "#Messagebox"
   ]
  },
  {
   "cell_type": "code",
   "execution_count": 18,
   "metadata": {},
   "outputs": [],
   "source": [
    "from tkinter import *\n",
    "from tkinter import messagebox\n",
    "def success():\n",
    "    messagebox.showinfo(\"Success\",\"Installation Complete\")#arguements are (\"Title\",\"Message\")\n",
    "def error():\n",
    "    messagebox.showerror(\"Oops\",\"Installation Failed\")#arguements are (\"Title\",\"Message\")\n",
    "def warning():\n",
    "    messagebox.showwarning(\"Waring\",\"Installation Paused\")#arguements are (\"Title\",\"Message\")\n",
    "\n",
    "start=Tk()\n",
    "butt=Button(start,text=\"Ok\",command=success)\n",
    "butt.pack()\n",
    "butt2=Button(start,text=\"Fault\",command=error)\n",
    "butt2.pack()\n",
    "butt3=Button(start,text=\"Warning\",command=warning)\n",
    "butt3.pack()\n",
    "\n",
    "start.geometry(\"200x200+200+200\")\n",
    "start.mainloop()"
   ]
  },
  {
   "cell_type": "markdown",
   "metadata": {},
   "source": [
    "#Messagebox askquestion"
   ]
  },
  {
   "cell_type": "code",
   "execution_count": 2,
   "metadata": {},
   "outputs": [
    {
     "name": "stdout",
     "output_type": "stream",
     "text": [
      "yes\n"
     ]
    }
   ],
   "source": [
    "from tkinter import *\n",
    "from tkinter import messagebox\n",
    "start=Tk()\n",
    "def callme():\n",
    "    get=messagebox.askquestion(\"Exit\",\"Do you really want to exit?\")\n",
    "    #print(get)\n",
    "    if get=='yes':\n",
    "        start.quit()\n",
    "\n",
    "start.geometry('200x200+200+200')\n",
    "butt=Button(start,text=\"Ok\",command=callme)\n",
    "butt.pack()\n",
    "start.mainloop()"
   ]
  },
  {
   "cell_type": "markdown",
   "metadata": {},
   "source": [
    "#Messagebox More options"
   ]
  },
  {
   "cell_type": "code",
   "execution_count": 10,
   "metadata": {},
   "outputs": [
    {
     "name": "stdout",
     "output_type": "stream",
     "text": [
      "None\n"
     ]
    }
   ],
   "source": [
    "from tkinter import *\n",
    "from tkinter import messagebox\n",
    "start=Tk()\n",
    "def callme():\n",
    "    get=messagebox.askyesnocancel(\"Exit\",\"Do you really want to exit?\")\n",
    "    print(get)\n",
    "    if get:\n",
    "        start.quit()\n",
    "    \n",
    "\n",
    "start.geometry('200x200+200+200')\n",
    "butt=Button(start,text=\"Ok\",command=callme)\n",
    "butt.pack()\n",
    "start.mainloop()"
   ]
  },
  {
   "cell_type": "markdown",
   "metadata": {},
   "source": [
    "#canvas create line"
   ]
  },
  {
   "cell_type": "code",
   "execution_count": 8,
   "metadata": {},
   "outputs": [],
   "source": [
    "from tkinter import *\n",
    "start=Tk()\n",
    "start.geometry('400x400+300+300')\n",
    "canv=Canvas(start,width=300,height=400,bg=\"red\")\n",
    "line=canv.create_line(0,0,200,200)\n",
    "canv.pack()\n",
    "start.mainloop()"
   ]
  },
  {
   "cell_type": "markdown",
   "metadata": {},
   "source": [
    "#Loading image through canvas.Image should be of the form png or gif"
   ]
  },
  {
   "cell_type": "code",
   "execution_count": null,
   "metadata": {},
   "outputs": [],
   "source": [
    "from tkinter import *\n",
    "start=Tk()\n",
    "canv=Canvas(start,width=700,height=500)\n",
    "canv.pack()\n",
    "photo=PhotoImage(file=\"/home/prem/Desktop/tkinter/take.png\")\n",
    "canv.create_image(0,0,image=photo,anchor=NW)\n",
    "#(dist.from x axis,dist. from y axis,image,\n",
    "#anchor=position on canvas from where we want to start our pic NW=NorthWest \n",
    "start.mainloop()"
   ]
  },
  {
   "cell_type": "markdown",
   "metadata": {},
   "source": [
    "#creating a rectanngle on canvas"
   ]
  },
  {
   "cell_type": "code",
   "execution_count": 1,
   "metadata": {},
   "outputs": [],
   "source": [
    "from tkinter import *\n",
    "start=Tk()\n",
    "canv=Canvas(start,width=700,height=500)\n",
    "canv.pack()\n",
    "canv.create_rectangle(100,100,300,400,fill=\"red\")#(first 2 are top left pixels,next 2 are bottom right pixels )\n",
    "start.mainloop()"
   ]
  },
  {
   "cell_type": "markdown",
   "metadata": {},
   "source": [
    "there are three geometry managers in tkinter \n",
    "1.grid\n",
    "2.pack\n",
    "3.place"
   ]
  },
  {
   "cell_type": "code",
   "execution_count": 3,
   "metadata": {},
   "outputs": [],
   "source": [
    "from tkinter import *\n",
    "start=Tk()\n",
    "start.geometry(\"300x300+120+120\")\n",
    "label1=Label(start,text=\"hello\")\n",
    "label2=Label(start,text=\"world\")\n",
    "label1.place(x=10,y=10)#x is dist. from x axis and y is dists from y axis\n",
    "label2.place(x=100,y=100)\n",
    "start.mainloop()"
   ]
  },
  {
   "cell_type": "markdown",
   "metadata": {},
   "source": [
    "#Soring entry values"
   ]
  },
  {
   "cell_type": "code",
   "execution_count": 5,
   "metadata": {},
   "outputs": [
    {
     "name": "stdout",
     "output_type": "stream",
     "text": [
      "hello\n",
      "hello\n",
      "hello\n",
      "hello\n",
      "hello\n",
      "hello\n"
     ]
    }
   ],
   "source": [
    "#Method 1\n",
    "from tkinter import *\n",
    "start=Tk()\n",
    "def clickme():\n",
    "    print(entry.get())\n",
    "start.geometry(\"300x300+100+100\")\n",
    "entry=Entry(start)\n",
    "entry.pack()\n",
    "butt=Button(start,text=\"Click Me\",command=clickme)\n",
    "butt.pack()\n",
    "start.mainloop()\n"
   ]
  },
  {
   "cell_type": "code",
   "execution_count": 8,
   "metadata": {},
   "outputs": [
    {
     "name": "stdout",
     "output_type": "stream",
     "text": [
      "welcome\n",
      "welcome\n",
      "heyy\n",
      "heyy\n"
     ]
    }
   ],
   "source": [
    "#Method2\n",
    "\n",
    "from tkinter import *\n",
    "def clickme():\n",
    "    s1=s.get()\n",
    "    print(s1)\n",
    "start=Tk()\n",
    "start.geometry(\"300x300+100+100\")\n",
    "s=StringVar()\n",
    "entry=Entry(start,textvariable=s)\n",
    "s.set(\"welcome\")\n",
    "entry.pack()\n",
    "butt=Button(start,text=\"Click Me\",command=clickme)\n",
    "butt.pack()\n",
    "start.mainloop()\n"
   ]
  },
  {
   "cell_type": "markdown",
   "metadata": {},
   "source": [
    "#Checkbox"
   ]
  },
  {
   "cell_type": "code",
   "execution_count": 16,
   "metadata": {},
   "outputs": [
    {
     "name": "stdout",
     "output_type": "stream",
     "text": [
      "1\n",
      "0\n",
      "0\n",
      "0\n",
      "0\n",
      "0\n",
      "1\n"
     ]
    }
   ],
   "source": [
    "from tkinter import *\n",
    "def clickme():\n",
    "    print(i.get())\n",
    "start=Tk()\n",
    "start.geometry(\"300x300+100+100\")\n",
    "i=IntVar()\n",
    "c=Checkbutton(start,text=\"First Option\",variable=i)\n",
    "c.pack()\n",
    "butt=Button(start,text=\"click\",command=clickme)\n",
    "butt.pack()\n",
    "start.mainloop()"
   ]
  },
  {
   "cell_type": "code",
   "execution_count": 17,
   "metadata": {},
   "outputs": [
    {
     "name": "stdout",
     "output_type": "stream",
     "text": [
      "checked\n",
      "checked\n",
      "unchecked\n",
      "unchecked\n"
     ]
    }
   ],
   "source": [
    "from tkinter import *\n",
    "def clickme():\n",
    "    print(i.get())\n",
    "start=Tk()\n",
    "start.geometry(\"300x300+100+100\")\n",
    "i=StringVar()\n",
    "c=Checkbutton(start,text=\"First Option\",variable=i,offvalue=\"unchecked\",onvalue=\"checked\")\n",
    "c.pack()\n",
    "butt=Button(start,text=\"click\",command=clickme)\n",
    "butt.pack()\n",
    "start.mainloop()"
   ]
  },
  {
   "cell_type": "code",
   "execution_count": 1,
   "metadata": {},
   "outputs": [],
   "source": [
    "#radiobuttons"
   ]
  },
  {
   "cell_type": "code",
   "execution_count": 24,
   "metadata": {},
   "outputs": [
    {
     "name": "stdout",
     "output_type": "stream",
     "text": [
      "You have selected first option\n",
      "You have selected second option\n"
     ]
    }
   ],
   "source": [
    "from tkinter import *\n",
    "def clickme():\n",
    "    if i.get()==1:\n",
    "        print(\"You have selected first option\")\n",
    "    else:\n",
    "        print(\"You have selected second option\")\n",
    "start=Tk()\n",
    "start.geometry(\"300x300+100+100\")\n",
    "i=IntVar()\n",
    "r1=Radiobutton(start,text=\"First Option\",value=1,variable=i)\n",
    "r1.pack()\n",
    "r2=Radiobutton(start,text=\"Second Option\",value=2,variable=i)\n",
    "r2.pack()\n",
    "\n",
    "butt=Button(start,text=\"click\",command=clickme)\n",
    "butt.pack()\n",
    "start.mainloop()"
   ]
  },
  {
   "cell_type": "markdown",
   "metadata": {},
   "source": [
    "#Creating a listbox"
   ]
  },
  {
   "cell_type": "code",
   "execution_count": 90,
   "metadata": {},
   "outputs": [
    {
     "name": "stdout",
     "output_type": "stream",
     "text": [
      "()\n",
      "()\n",
      "(2, 3, 4)\n",
      "Python\n",
      "Java\n",
      "JS\n",
      "None\n",
      "None\n",
      "None\n"
     ]
    }
   ],
   "source": [
    "from tkinter import *\n",
    "def printitem():\n",
    "    clickeditems=l.curselection()\n",
    "    print(clickeditems)\n",
    "    for item in clickeditems:\n",
    "        print(l.get(item))\n",
    "def delete():\n",
    "    clickeditems=l.curselection()\n",
    "    for item in clickeditems:\n",
    "        print(l.delete(item))\n",
    "\n",
    "start=Tk()\n",
    "l=Listbox(start,width=30,height=20,selectmode=MULTIPLE)#default selectmode is BROWSE other are SINGLE EXTENDED\n",
    "l.insert(\"1\",\"C\")\n",
    "l.insert(\"2\",\"C++\")\n",
    "l.insert(\"3\",\"Python\")\n",
    "l.insert(\"4\",\"Java\")\n",
    "l.insert(\"5\",\"JS\")\n",
    "l.pack()\n",
    "butt=Button(start,text=\"Print\",command=printitem)\n",
    "butt.pack()\n",
    "butt_delete=Button(start,text=\"Delete\",command=delete)\n",
    "butt_delete.pack()\n",
    "start.geometry(\"400x400+150+150\")\n",
    "start.mainloop()"
   ]
  },
  {
   "cell_type": "markdown",
   "metadata": {},
   "source": [
    "#creating a combobox"
   ]
  },
  {
   "cell_type": "code",
   "execution_count": 48,
   "metadata": {},
   "outputs": [
    {
     "name": "stdout",
     "output_type": "stream",
     "text": [
      "4\n"
     ]
    }
   ],
   "source": [
    "from tkinter import *\n",
    "from tkinter.ttk import Combobox\n",
    "start=Tk()\n",
    "def selected():\n",
    "    print(combo.get())\n",
    "l=list(range(0,51))\n",
    "combo=Combobox(start,values=l,height=20)#default width is 10\n",
    "combo.set(\"Select\")\n",
    "combo.pack()\n",
    "butt=Button(start,text=\"Selected\",command=selected)\n",
    "butt.pack()\n",
    "start.geometry(\"300x300+120+120\")\n",
    "start.mainloop()"
   ]
  },
  {
   "cell_type": "markdown",
   "metadata": {},
   "source": [
    "Working with fonts"
   ]
  },
  {
   "cell_type": "code",
   "execution_count": 2,
   "metadata": {},
   "outputs": [],
   "source": [
    "from tkinter import *\n",
    "from tkinter.font import Font\n",
    "start=Tk()\n",
    "my_font=Font(family=\"Rekha\",size=40,weight=\"bold\",slant=\"italic\",underline=0)#1 for underline\n",
    "label=Label(start,text=\"Hello\",font=my_font).pack()\n",
    "start.geometry(\"300x300+120+120\")\n",
    "start.mainloop()"
   ]
  },
  {
   "cell_type": "markdown",
   "metadata": {},
   "source": [
    "#To check the font list"
   ]
  },
  {
   "cell_type": "code",
   "execution_count": 1,
   "metadata": {},
   "outputs": [
    {
     "ename": "TclError",
     "evalue": "unknown option \"-title\"",
     "output_type": "error",
     "traceback": [
      "\u001b[0;31m---------------------------------------------------------------------------\u001b[0m",
      "\u001b[0;31mTclError\u001b[0m                                  Traceback (most recent call last)",
      "\u001b[0;32m<ipython-input-1-60f6bb101ba8>\u001b[0m in \u001b[0;36m<module>\u001b[0;34m\u001b[0m\n\u001b[1;32m      2\u001b[0m \u001b[0;32mfrom\u001b[0m \u001b[0mtkinter\u001b[0m\u001b[0;34m.\u001b[0m\u001b[0mfont\u001b[0m \u001b[0;32mimport\u001b[0m \u001b[0mFont\u001b[0m\u001b[0;34m\u001b[0m\u001b[0;34m\u001b[0m\u001b[0m\n\u001b[1;32m      3\u001b[0m \u001b[0mstart\u001b[0m\u001b[0;34m=\u001b[0m\u001b[0mTk\u001b[0m\u001b[0;34m(\u001b[0m\u001b[0;34m)\u001b[0m\u001b[0;34m\u001b[0m\u001b[0;34m\u001b[0m\u001b[0m\n\u001b[0;32m----> 4\u001b[0;31m \u001b[0mstart\u001b[0m\u001b[0;34m.\u001b[0m\u001b[0mconfigure\u001b[0m\u001b[0;34m(\u001b[0m\u001b[0mtitle\u001b[0m\u001b[0;34m=\u001b[0m\u001b[0;34m\"Fonts\"\u001b[0m\u001b[0;34m)\u001b[0m\u001b[0;34m\u001b[0m\u001b[0;34m\u001b[0m\u001b[0m\n\u001b[0m\u001b[1;32m      5\u001b[0m \u001b[0mfonts\u001b[0m\u001b[0;34m=\u001b[0m\u001b[0mlist\u001b[0m\u001b[0;34m(\u001b[0m\u001b[0mfont\u001b[0m\u001b[0;34m.\u001b[0m\u001b[0mfamilies\u001b[0m\u001b[0;34m(\u001b[0m\u001b[0;34m)\u001b[0m\u001b[0;34m)\u001b[0m\u001b[0;34m\u001b[0m\u001b[0;34m\u001b[0m\u001b[0m\n\u001b[1;32m      6\u001b[0m \u001b[0;32mfor\u001b[0m \u001b[0mitem\u001b[0m \u001b[0;32min\u001b[0m \u001b[0mfonts\u001b[0m\u001b[0;34m:\u001b[0m\u001b[0;34m\u001b[0m\u001b[0;34m\u001b[0m\u001b[0m\n",
      "\u001b[0;32m/usr/lib/python3.6/tkinter/__init__.py\u001b[0m in \u001b[0;36mconfigure\u001b[0;34m(self, cnf, **kw)\u001b[0m\n\u001b[1;32m   1483\u001b[0m         \u001b[0mthe\u001b[0m \u001b[0mallowed\u001b[0m \u001b[0mkeyword\u001b[0m \u001b[0marguments\u001b[0m \u001b[0mcall\u001b[0m \u001b[0mthe\u001b[0m \u001b[0mmethod\u001b[0m \u001b[0mkeys\u001b[0m\u001b[0;34m.\u001b[0m\u001b[0;34m\u001b[0m\u001b[0;34m\u001b[0m\u001b[0m\n\u001b[1;32m   1484\u001b[0m         \"\"\"\n\u001b[0;32m-> 1485\u001b[0;31m         \u001b[0;32mreturn\u001b[0m \u001b[0mself\u001b[0m\u001b[0;34m.\u001b[0m\u001b[0m_configure\u001b[0m\u001b[0;34m(\u001b[0m\u001b[0;34m'configure'\u001b[0m\u001b[0;34m,\u001b[0m \u001b[0mcnf\u001b[0m\u001b[0;34m,\u001b[0m \u001b[0mkw\u001b[0m\u001b[0;34m)\u001b[0m\u001b[0;34m\u001b[0m\u001b[0;34m\u001b[0m\u001b[0m\n\u001b[0m\u001b[1;32m   1486\u001b[0m     \u001b[0mconfig\u001b[0m \u001b[0;34m=\u001b[0m \u001b[0mconfigure\u001b[0m\u001b[0;34m\u001b[0m\u001b[0;34m\u001b[0m\u001b[0m\n\u001b[1;32m   1487\u001b[0m     \u001b[0;32mdef\u001b[0m \u001b[0mcget\u001b[0m\u001b[0;34m(\u001b[0m\u001b[0mself\u001b[0m\u001b[0;34m,\u001b[0m \u001b[0mkey\u001b[0m\u001b[0;34m)\u001b[0m\u001b[0;34m:\u001b[0m\u001b[0;34m\u001b[0m\u001b[0;34m\u001b[0m\u001b[0m\n",
      "\u001b[0;32m/usr/lib/python3.6/tkinter/__init__.py\u001b[0m in \u001b[0;36m_configure\u001b[0;34m(self, cmd, cnf, kw)\u001b[0m\n\u001b[1;32m   1474\u001b[0m         \u001b[0;32mif\u001b[0m \u001b[0misinstance\u001b[0m\u001b[0;34m(\u001b[0m\u001b[0mcnf\u001b[0m\u001b[0;34m,\u001b[0m \u001b[0mstr\u001b[0m\u001b[0;34m)\u001b[0m\u001b[0;34m:\u001b[0m\u001b[0;34m\u001b[0m\u001b[0;34m\u001b[0m\u001b[0m\n\u001b[1;32m   1475\u001b[0m             \u001b[0;32mreturn\u001b[0m \u001b[0mself\u001b[0m\u001b[0;34m.\u001b[0m\u001b[0m_getconfigure1\u001b[0m\u001b[0;34m(\u001b[0m\u001b[0m_flatten\u001b[0m\u001b[0;34m(\u001b[0m\u001b[0;34m(\u001b[0m\u001b[0mself\u001b[0m\u001b[0;34m.\u001b[0m\u001b[0m_w\u001b[0m\u001b[0;34m,\u001b[0m \u001b[0mcmd\u001b[0m\u001b[0;34m,\u001b[0m \u001b[0;34m'-'\u001b[0m\u001b[0;34m+\u001b[0m\u001b[0mcnf\u001b[0m\u001b[0;34m)\u001b[0m\u001b[0;34m)\u001b[0m\u001b[0;34m)\u001b[0m\u001b[0;34m\u001b[0m\u001b[0;34m\u001b[0m\u001b[0m\n\u001b[0;32m-> 1476\u001b[0;31m         \u001b[0mself\u001b[0m\u001b[0;34m.\u001b[0m\u001b[0mtk\u001b[0m\u001b[0;34m.\u001b[0m\u001b[0mcall\u001b[0m\u001b[0;34m(\u001b[0m\u001b[0m_flatten\u001b[0m\u001b[0;34m(\u001b[0m\u001b[0;34m(\u001b[0m\u001b[0mself\u001b[0m\u001b[0;34m.\u001b[0m\u001b[0m_w\u001b[0m\u001b[0;34m,\u001b[0m \u001b[0mcmd\u001b[0m\u001b[0;34m)\u001b[0m\u001b[0;34m)\u001b[0m \u001b[0;34m+\u001b[0m \u001b[0mself\u001b[0m\u001b[0;34m.\u001b[0m\u001b[0m_options\u001b[0m\u001b[0;34m(\u001b[0m\u001b[0mcnf\u001b[0m\u001b[0;34m)\u001b[0m\u001b[0;34m)\u001b[0m\u001b[0;34m\u001b[0m\u001b[0;34m\u001b[0m\u001b[0m\n\u001b[0m\u001b[1;32m   1477\u001b[0m     \u001b[0;31m# These used to be defined in Widget:\u001b[0m\u001b[0;34m\u001b[0m\u001b[0;34m\u001b[0m\u001b[0;34m\u001b[0m\u001b[0m\n\u001b[1;32m   1478\u001b[0m     \u001b[0;32mdef\u001b[0m \u001b[0mconfigure\u001b[0m\u001b[0;34m(\u001b[0m\u001b[0mself\u001b[0m\u001b[0;34m,\u001b[0m \u001b[0mcnf\u001b[0m\u001b[0;34m=\u001b[0m\u001b[0;32mNone\u001b[0m\u001b[0;34m,\u001b[0m \u001b[0;34m**\u001b[0m\u001b[0mkw\u001b[0m\u001b[0;34m)\u001b[0m\u001b[0;34m:\u001b[0m\u001b[0;34m\u001b[0m\u001b[0;34m\u001b[0m\u001b[0m\n",
      "\u001b[0;31mTclError\u001b[0m: unknown option \"-title\""
     ]
    }
   ],
   "source": [
    "from tkinter import *\n",
    "from tkinter.font import Font\n",
    "start=Tk()\n",
    "start.configure()\n",
    "fonts=list(font.families())\n",
    "for item in fonts:\n",
    "    print(item)"
   ]
  },
  {
   "cell_type": "markdown",
   "metadata": {},
   "source": [
    "#Working with text"
   ]
  },
  {
   "cell_type": "code",
   "execution_count": 84,
   "metadata": {},
   "outputs": [],
   "source": [
    "from tkinter import *\n",
    "def fetch():\n",
    "    result=text.get(1.0,END)#1 means first line,0 means first character and END means till end\n",
    "    print(result)\n",
    "def selected():\n",
    "    result=text.selection_get()\n",
    "    pos=text.search(result,1.0,stopindex=END)\n",
    "    print(result)\n",
    "    print(pos)\n",
    "def delete():\n",
    "    text.delete(1.0,END)\n",
    "start=Tk()\n",
    "start.geometry(\"500x500+100+100\")\n",
    "text=Text(start,width=30,height=20,wrap=WORD,bd=5,selectbackground=\"blue\",padx=10)\n",
    "text.insert(INSERT,\"Hello Myself Prem\")\n",
    "text.pack()\n",
    "#wrap is used so that words do not break on touching boundary of text box they will appear completely in new line\n",
    "#padx is used for padding from x axis and paddy is used for padding from y axis\n",
    "#width equals to no. of character in a row and height equals to no. of rows\n",
    "#bd is border width default is 2\n",
    "#selectbackground is to change color of selected part\n",
    "butt=Button(start,text=\"Fetch Content\",command=fetch)\n",
    "butt.pack()\n",
    "butt2=Button(start,text=\"Selected Content\",command=selected)\n",
    "butt2.pack()\n",
    "butt2=Button(start,text=\"clear\",command=delete)\n",
    "butt2.pack()\n",
    "start.mainloop()"
   ]
  },
  {
   "cell_type": "markdown",
   "metadata": {},
   "source": [
    "#Scrollbar"
   ]
  },
  {
   "cell_type": "code",
   "execution_count": 4,
   "metadata": {},
   "outputs": [],
   "source": [
    "from tkinter import *\n",
    "start=Tk()\n",
    "scroll=Scrollbar(start)\n",
    "scroll.pack(side=RIGHT,fill=Y)\n",
    "l=Listbox(start,yscrollcommand=scroll.set)\n",
    "for i in range(1,100):\n",
    "    l.insert(END,\"List\"+str(i))\n",
    "l.pack(side=LEFT)\n",
    "scroll.config(command=l.yview)\n",
    "start.geometry(\"300x300+100+100\")\n",
    "start.mainloop()"
   ]
  },
  {
   "cell_type": "code",
   "execution_count": 3,
   "metadata": {},
   "outputs": [],
   "source": [
    "from tkinter import *\n",
    "start=Tk()\n",
    "start.title(\"Scroll Bar\")\n",
    "frame=Frame(start)\n",
    "scroll=Scrollbar(frame)\n",
    "scroll.pack(side=RIGHT,fill=Y)\n",
    "l=Listbox(frame,yscrollcommand=scroll.set)\n",
    "for i in range(1,100):\n",
    "    l.insert(END,\"List\"+str(i))\n",
    "l.pack(side=LEFT)\n",
    "scroll.config(command=l.yview)\n",
    "start.geometry(\"300x300+100+100\")\n",
    "frame.pack()\n",
    "start.mainloop()"
   ]
  },
  {
   "cell_type": "markdown",
   "metadata": {},
   "source": [
    "#buliding a search app"
   ]
  },
  {
   "cell_type": "code",
   "execution_count": null,
   "metadata": {},
   "outputs": [],
   "source": []
  },
  {
   "cell_type": "code",
   "execution_count": null,
   "metadata": {},
   "outputs": [],
   "source": []
  }
 ],
 "metadata": {
  "kernelspec": {
   "display_name": "Python 3",
   "language": "python",
   "name": "python3"
  },
  "language_info": {
   "codemirror_mode": {
    "name": "ipython",
    "version": 3
   },
   "file_extension": ".py",
   "mimetype": "text/x-python",
   "name": "python",
   "nbconvert_exporter": "python",
   "pygments_lexer": "ipython3",
   "version": "3.6.8"
  }
 },
 "nbformat": 4,
 "nbformat_minor": 2
}
