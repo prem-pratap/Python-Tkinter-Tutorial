{
 "cells": [
  {
   "cell_type": "markdown",
   "metadata": {},
   "source": [
    "#Building a search app"
   ]
  },
  {
   "cell_type": "code",
   "execution_count": 37,
   "metadata": {},
   "outputs": [],
   "source": [
    "from tkinter import *\n",
    "import wikipedia\n",
    "start=Tk()\n",
    "start.geometry(\"300x300+140+140\")\n",
    "def getme():\n",
    "    entryvalue=entry.get()\n",
    "    try:\n",
    "        answer_value=wikipedia.summary(entryvalue)\n",
    "        ans.delete(1.0,END)#this is done clear textbox on closing of \n",
    "        ans.insert(INSERT,answer_value)\n",
    "    except:\n",
    "        print(\"You Have Entered Wrong Input Or Check Your Internet Connection\")\n",
    "#creating a topframe\n",
    "topframe=Frame(start)\n",
    "topframe.pack(side=TOP)\n",
    "entry=Entry(topframe)\n",
    "entry.pack()\n",
    "#creating a search\n",
    "butt=Button(topframe,text=\"Search\",command=getme)\n",
    "butt.pack()\n",
    "#creating scroll bar\n",
    "bottomframe=Frame(start)\n",
    "scroll=Scrollbar(bottomframe)\n",
    "scroll.pack(side=RIGHT,fill=Y)\n",
    "ans=Text(bottomframe,wrap=WORD,width=20,height=15,yscrollcommand=scroll.set)\n",
    "scroll.config(command=ans.yview)\n",
    "ans.pack()\n",
    "\n",
    "bottomframe.pack(side=BOTTOM)\n",
    "\n",
    "start.mainloop()"
   ]
  },
  {
   "cell_type": "markdown",
   "metadata": {},
   "source": [
    "#Input through popup window"
   ]
  },
  {
   "cell_type": "code",
   "execution_count": 23,
   "metadata": {},
   "outputs": [
    {
     "name": "stdout",
     "output_type": "stream",
     "text": [
      "Prem\n",
      "None\n",
      "Prem\n"
     ]
    }
   ],
   "source": [
    "from tkinter import *\n",
    "from tkinter import simpledialog\n",
    "start=Tk()\n",
    "def getme():\n",
    "    s=simpledialog.askstring(\"Input String\",\"Enter Your Name\")\n",
    "    print(s)\n",
    "butt=Button(start,text=\"popup\",command=getme)\n",
    "butt.pack()\n",
    "start.geometry(\"300x300+100+100\")\n",
    "start.mainloop()"
   ]
  },
  {
   "cell_type": "markdown",
   "metadata": {},
   "source": [
    "#Slider tutorial "
   ]
  },
  {
   "cell_type": "code",
   "execution_count": 4,
   "metadata": {},
   "outputs": [
    {
     "name": "stdout",
     "output_type": "stream",
     "text": [
      "23\n"
     ]
    }
   ],
   "source": [
    "from tkinter import *\n",
    "start=Tk()\n",
    "def fetch():\n",
    "    print(s.get())\n",
    "s=Scale(start,from_=0,to=100,length=200,width=25,sliderlength=20)#we can pass orient=HORIZONTAL for horizontal scale\n",
    "#default length and width are 100 and 15 respectively\n",
    "#default sliderlength is 30\n",
    "butt=Button(start,text=\"Fetch\",command=fetch)\n",
    "butt.pack()\n",
    "s.pack(side=RIGHT,fill=Y)\n",
    "start.geometry(\"300x300+100+100\")\n",
    "start.mainloop()"
   ]
  },
  {
   "cell_type": "markdown",
   "metadata": {},
   "source": [
    "#WOrking with multiple windows"
   ]
  },
  {
   "cell_type": "code",
   "execution_count": 7,
   "metadata": {},
   "outputs": [],
   "source": [
    "from tkinter import *\n",
    "start=Tk()\n",
    "def openwindow():\n",
    "    top=Toplevel()\n",
    "    top.title('New Window')\n",
    "    top.geometry(\"200x200+140+140\")\n",
    "    butt1=Button(top,text=\"Close\",command=top.destroy)\n",
    "    butt1.pack()\n",
    "butt=Button(start,text=\"open window\",command=openwindow)\n",
    "butt.pack()\n",
    "start.geometry(\"300x300+100+100\")\n",
    "start.mainloop()"
   ]
  },
  {
   "cell_type": "markdown",
   "metadata": {},
   "source": [
    "#Creating a spinbox"
   ]
  },
  {
   "cell_type": "code",
   "execution_count": 8,
   "metadata": {},
   "outputs": [
    {
     "name": "stdout",
     "output_type": "stream",
     "text": [
      "10\n",
      "10\n",
      "10\n"
     ]
    }
   ],
   "source": [
    "from tkinter import *\n",
    "start=Tk()\n",
    "def fetch():\n",
    "    print(s.get())\n",
    "s=Spinbox(start,from_=10,to=100)\n",
    "s.pack()\n",
    "butt=Button(start,text='Fetch',command=fetch)\n",
    "butt.pack()\n",
    "start.geometry(\"300x300+100+100\")\n",
    "start.mainloop()"
   ]
  },
  {
   "cell_type": "markdown",
   "metadata": {},
   "source": [
    "#LabelFrame"
   ]
  },
  {
   "cell_type": "code",
   "execution_count": 9,
   "metadata": {},
   "outputs": [],
   "source": [
    "from tkinter import *\n",
    "start=Tk()\n",
    "frame=LabelFrame(start,text=\"First LabelFrame\",padx=5,pady=5)\n",
    "entry=Entry(frame)\n",
    "entry.pack()\n",
    "frame.pack()\n",
    "start.geometry(\"300x300+100+100\")\n",
    "start.mainloop()"
   ]
  },
  {
   "cell_type": "markdown",
   "metadata": {},
   "source": [
    "#File dialogbox"
   ]
  },
  {
   "cell_type": "code",
   "execution_count": 16,
   "metadata": {},
   "outputs": [
    {
     "name": "stdout",
     "output_type": "stream",
     "text": [
      "#!/usr/bin/env python3\n",
      "\n",
      "import cv2\n",
      "\n",
      "cap=cv2.VideoCapture(0)\n",
      "\n",
      "while cap.isOpened():\n",
      "\n",
      "\tstatus,frame=cap.read()\n",
      "\n",
      "\tcv2.imwrite(\"take.png\",frame)\n",
      "\n",
      "\tcv2.imshow(\"live\",frame)\n",
      "\n",
      "\tif cv2.waitKey(30) & 0xff==ord('q'):\n",
      "\n",
      "\t\tbreak\n",
      "\n",
      "cv2.destroyAllWindows()\n",
      "\n",
      "cap.release()\n",
      "\n"
     ]
    }
   ],
   "source": [
    "from tkinter import *\n",
    "from tkinter import filedialog\n",
    "start=Tk()\n",
    "def file():\n",
    "    result=filedialog.askopenfile(initialdir=\"/home/prem/Desktop/summer\",title=\"Select file\",filetypes=((\"text files\",\".txt\"),(\"All files\",\"*\")))\n",
    "    for c in result:\n",
    "        print(c)\n",
    "start.geometry(\"300x300+100+100\")\n",
    "butt=Button(start,text=\"Open File\",command=file)\n",
    "butt.pack()\n",
    "start.mainloop()"
   ]
  },
  {
   "cell_type": "markdown",
   "metadata": {},
   "source": [
    "#Save file dialog"
   ]
  },
  {
   "cell_type": "code",
   "execution_count": 20,
   "metadata": {},
   "outputs": [],
   "source": [
    "from tkinter import *\n",
    "from tkinter import filedialog\n",
    "start=Tk()\n",
    "def save_file():\n",
    "    f=filedialog.asksaveasfile(mode=\"w\",defaultextension=\".txt\")\n",
    "    if f is None:\n",
    "        return\n",
    "    else:\n",
    "        f.write(\"Hello\")\n",
    "                                \n",
    "start.geometry(\"300x300+100+100\")\n",
    "butt=Button(start,text=\"Save File\",command=save_file)\n",
    "butt.pack()\n",
    "start.mainloop()"
   ]
  },
  {
   "cell_type": "markdown",
   "metadata": {},
   "source": [
    "#Color dialogbox"
   ]
  },
  {
   "cell_type": "code",
   "execution_count": 22,
   "metadata": {},
   "outputs": [],
   "source": [
    "from tkinter import *\n",
    "from tkinter import colorchooser\n",
    "start=Tk()\n",
    "def colorbox():\n",
    "    clr=colorchooser.askcolor(title=\"Select Color\")\n",
    "    #print(clr)\n",
    "    start.configure(background=clr[1])\n",
    "butt=Button(start,text=\"Color Choose\",command=colorbox)\n",
    "butt.pack()\n",
    "start.geometry(\"300x300+100+100\")\n",
    "start.mainloop()"
   ]
  },
  {
   "cell_type": "markdown",
   "metadata": {},
   "source": [
    "#How to bind shortcut keys in tkinter"
   ]
  },
  {
   "cell_type": "code",
   "execution_count": 13,
   "metadata": {},
   "outputs": [],
   "source": [
    "from tkinter import *\n",
    "from tkinter import messagebox\n",
    "start=Tk()\n",
    "#when we bind a function with start then we have to pass event as an arguement\n",
    "#but if pass event like def callme(event) then error will occur when we clcik our button\n",
    "#to resolve the method shown below is preferred\n",
    "def callme(event=\"\"):\n",
    "    messagebox.showinfo(\"Trying\",\"Wait this is important\")\n",
    "butt=Button(start,text=\"call Me\",command=callme)\n",
    "butt.pack()\n",
    "start.bind('<Control-c>',callme)\n",
    "start.geometry(\"300x300\")\n",
    "start.mainloop()"
   ]
  },
  {
   "cell_type": "markdown",
   "metadata": {},
   "source": [
    "#Making a text editor"
   ]
  },
  {
   "cell_type": "code",
   "execution_count": 1,
   "metadata": {},
   "outputs": [],
   "source": [
    "from tkinter import *\n",
    "from tkinter import filedialog\n",
    "start=Tk()\n",
    "\n",
    "class texteditor:\n",
    "    #function to open file\n",
    "    current_open_file=\"No file\"#it is used to check whether a new file is created or previous is opened\n",
    "    def open_file(self):\n",
    "        open_return=filedialog.askopenfile(initialdir=\"/home/prem/Desktop/summer/\",title=\"Select file\",filetypes=((\"Text Files\",\".txt\"),(\"All files\",\"*\")))\n",
    "        if (open_return) is not None:\n",
    "            self.text_area.delete(1.0,END)#This is done to delete content of previously loaded file from textbox\n",
    "            for file in open_return:\n",
    "                self.text_area.insert(END,file)\n",
    "            self.current_open_file=open_return.name\n",
    "        open_return.close()\n",
    "    \n",
    "    #function for save as file\n",
    "    def saveas(self):\n",
    "        f=filedialog.asksaveasfile(mode=\"w\",defaultextension=\".txt\") \n",
    "        if f is None:\n",
    "            return\n",
    "        text2save=self.text_area.get(1.0,END)\n",
    "        self.current_open_file=f.name\n",
    "        f.write(text2save)\n",
    "        f.close\n",
    "    #function to save file\n",
    "    def savefile(self):\n",
    "        if self.current_open_file ==\"No file\":\n",
    "            self.saveas()\n",
    "        else:\n",
    "            f=open(self.current_open_file,\"w+\")\n",
    "            f.write(self.text_area.get(1.0,END))\n",
    "    #function to open new file\n",
    "    def newfile(self):\n",
    "        self.text_area.delete(1.0,END)\n",
    "        self.current_open_file=\"No file\"\n",
    "    \n",
    "    #Function to create menu bars\n",
    "    def __init__(self,master):\n",
    "        self.master=master\n",
    "        master.title(\"Text Editor\")\n",
    "        self.text_area=Text()\n",
    "        self.text_area.pack(fill=BOTH,expand=1)#fill is used to make text box of the size of start but this workds only in x axis\n",
    "        #so expand=1 is used to make it expandable textbox along with start\n",
    "        self.mainmenu=Menu(self.master)\n",
    "        self.master.config(menu=self.mainmenu)\n",
    "        #creating file menu\n",
    "        self.filemenu=Menu(self.mainmenu,tearoff=False)#tearoff is used to remove dashed line in starting\n",
    "        self.mainmenu.add_cascade(label=\"File\",menu=self.filemenu)\n",
    "        self.filemenu.add_command(label=\"New\",command=self.newfile)\n",
    "        self.filemenu.add_command(label=\"Open\",command=self.open_file)\n",
    "        self.filemenu.add_separator()\n",
    "        self.filemenu.add_command(label=\"Save\",command=self.savefile)\n",
    "        self.filemenu.add_command(label=\"Save as\",command=self.saveas)\n",
    "        self.filemenu.add_separator()\n",
    "        self.filemenu.add_command(label=\"Exit\",command=master.quit)\n",
    "        #creating edit\n",
    "        self.editmenu=Menu(self.mainmenu)\n",
    "        self.mainmenu.add_cascade(label=\"Edit\",menu=self.editmenu)\n",
    "        \n",
    "        \n",
    "        \n",
    "te=texteditor(start)#creating object of class\n",
    "start.geometry(\"300x300\")\n",
    "start.mainloop()"
   ]
  },
  {
   "cell_type": "code",
   "execution_count": 6,
   "metadata": {},
   "outputs": [],
   "source": [
    "from tkinter import *\n",
    "from tkinter import filedialog\n",
    "start=Tk()\n",
    "\n",
    "class texteditor:\n",
    "    #function to open file\n",
    "    current_open_file=\"No file\"#it is used to check whether a new file is created or previous is opened\n",
    "    def open_file(self):\n",
    "        open_return=filedialog.askopenfile(initialdir=\"/home/prem/Desktop/summer/\",title=\"Select file\",filetypes=((\"Text Files\",\".txt\"),(\"All files\",\"*\")))\n",
    "        if (open_return) is not None:\n",
    "            self.text_area.delete(1.0,END)#This is done to delete content of previously loaded file from textbox\n",
    "            for file in open_return:\n",
    "                self.text_area.insert(END,file)\n",
    "            self.current_open_file=open_return.name\n",
    "        open_return.close()\n",
    "    \n",
    "    #function for save as file\n",
    "    def saveas(self):\n",
    "        f=filedialog.asksaveasfile(mode=\"w\",defaultextension=\".txt\") \n",
    "        if f is None:\n",
    "            return\n",
    "        text2save=self.text_area.get(1.0,END)\n",
    "        self.current_open_file=f.name\n",
    "        f.write(text2save)\n",
    "        f.close\n",
    "    #function to save file\n",
    "    def savefile(self):\n",
    "        if self.current_open_file ==\"No file\":\n",
    "            self.saveas()\n",
    "        else:\n",
    "            f=open(self.current_open_file,\"w+\")\n",
    "            f.write(self.text_area.get(1.0,END))\n",
    "    #function to open new file\n",
    "    def newfile(self):\n",
    "        self.text_area.delete(1.0,END)\n",
    "        self.current_open_file=\"No file\"\n",
    "    def copy(self):\n",
    "        self.text_area.clipboard_clear()\n",
    "        ll=self.text_area.clipboard_append(self.text_area.selection_get())\n",
    "    def cut(self):\n",
    "        self.copy()\n",
    "        self.text_area.delete(\"sel.first\",\"sel.last\")\n",
    "        #index of first selected text is in sel.first and last index of selected text is in sel.last\n",
    "    def paste(self):\n",
    "        self.text_area.insert(INSERT,self.text_area.clipboard_get())#INSERT shows the current position of cursor\n",
    "        \n",
    "    \n",
    "    #Function to create menu bars\n",
    "    def __init__(self,master):\n",
    "        self.master=master\n",
    "        master.title(\"Text Editor\")\n",
    "        self.text_area=Text(self.master,undo=True)\n",
    "        self.text_area.pack(fill=BOTH,expand=1)#fill is used to make text box of the size of start but this workds only in x axis\n",
    "        #so expand=1 is used to make it expandable textbox along with start\n",
    "        self.mainmenu=Menu(self.master)\n",
    "        self.master.config(menu=self.mainmenu)\n",
    "        #creating file menu & tearoff is used to remove dashed line in starting\n",
    "        self.filemenu=Menu(self.mainmenu,tearoff=False)\n",
    "        self.mainmenu.add_cascade(label=\"File\",menu=self.filemenu)\n",
    "        self.filemenu.add_command(label=\"New\",command=self.newfile)\n",
    "        self.filemenu.add_command(label=\"Open\",command=self.open_file)\n",
    "        self.filemenu.add_separator()\n",
    "        self.filemenu.add_command(label=\"Save\",command=self.savefile)\n",
    "        self.filemenu.add_command(label=\"Save as\",command=self.saveas)\n",
    "        self.filemenu.add_separator()\n",
    "        self.filemenu.add_command(label=\"Exit\",command=master.quit)\n",
    "        #creating edit\n",
    "        self.editmenu=Menu(self.mainmenu,tearoff=False)\n",
    "        self.mainmenu.add_cascade(label=\"Edit\",menu=self.editmenu)\n",
    "        self.editmenu.add_command(label=\"Cut\",command=self.cut)\n",
    "        self.editmenu.add_command(label=\"Copy\",command=self.copy)\n",
    "        self.editmenu.add_command(label=\"Paste\",command=self.paste)\n",
    "        self.editmenu.add_separator()\n",
    "        self.editmenu.add_command(label=\"Undo\",command=self.text_area.edit_undo)\n",
    "        self.editmenu.add_command(label=\"Redo\",command=self.text_area.edit_redo)\n",
    "        \n",
    "        \n",
    "        \n",
    "        \n",
    "te=texteditor(start)#creating object of class\n",
    "start.geometry(\"300x300\")\n",
    "start.mainloop()"
   ]
  },
  {
   "cell_type": "code",
   "execution_count": null,
   "metadata": {},
   "outputs": [],
   "source": [
    "#Difference between DESTROY & QUIT is QUIT closes complete app whereas DESTROY close only the current window that is open.\n",
    "#so if you are working with multiple windows then it is recommended to use DESTROY"
   ]
  }
 ],
 "metadata": {
  "kernelspec": {
   "display_name": "Python 3",
   "language": "python",
   "name": "python3"
  },
  "language_info": {
   "codemirror_mode": {
    "name": "ipython",
    "version": 3
   },
   "file_extension": ".py",
   "mimetype": "text/x-python",
   "name": "python",
   "nbconvert_exporter": "python",
   "pygments_lexer": "ipython3",
   "version": "3.6.8"
  }
 },
 "nbformat": 4,
 "nbformat_minor": 2
}
